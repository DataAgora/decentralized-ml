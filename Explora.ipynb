{
 "cells": [
  {
   "cell_type": "markdown",
   "metadata": {},
   "source": [
    "The following cell will import and load an instance of the Explora module. Add any extra imports here."
   ]
  },
  {
   "cell_type": "code",
   "execution_count": 3,
   "metadata": {},
   "outputs": [
    {
     "name": "stdout",
     "output_type": "stream",
     "text": [
      "\u001b[33mWARNING: The directory '/home/jupyter-ndodda/.cache/pip/http' or its parent directory is not owned by the current user and the cache has been disabled. Please check the permissions and owner of that directory. If executing pip with sudo, you may want sudo's -H flag.\u001b[0m\n",
      "\u001b[33mWARNING: The directory '/home/jupyter-ndodda/.cache/pip' or its parent directory is not owned by the current user and caching wheels has been disabled. check the permissions and owner of that directory. If executing pip with sudo, you may want sudo's -H flag.\u001b[0m\n",
      "Collecting Flask==0.11.1 (from -r requirements.txt (line 1))\n",
      "\u001b[?25l  Downloading https://files.pythonhosted.org/packages/63/2b/01f5ed23a78391f6e3e73075973da0ecb467c831376a0b09c0ec5afd7977/Flask-0.11.1-py2.py3-none-any.whl (80kB)\n",
      "\u001b[K     |████████████████████████████████| 81kB 11.2MB/s eta 0:00:01\n",
      "\u001b[?25hCollecting Flask_SQLAlchemy==2.3.1 (from -r requirements.txt (line 2))\n",
      "  Downloading https://files.pythonhosted.org/packages/21/d2/bcf58facea86898c817abaa36fa800201f620c4f8eba61e34146a0c5a3a0/Flask_SQLAlchemy-2.3.1-py2.py3-none-any.whl\n",
      "Collecting psycopg2==2.7.3.1 (from -r requirements.txt (line 3))\n",
      "\u001b[?25l  Downloading https://files.pythonhosted.org/packages/21/44/159fe55329b6b94dd3077080fed6c2f77c0d6b858bc415a5784e9e885235/psycopg2-2.7.3.1-cp36-cp36m-manylinux1_x86_64.whl (2.6MB)\n",
      "\u001b[K     |████████████████████████████████| 2.6MB 8.1MB/s eta 0:00:01     |████████▉                       | 727kB 8.1MB/s eta 0:00:01\n",
      "\u001b[?25hCollecting pandas==0.19.2 (from -r requirements.txt (line 4))\n",
      "\u001b[?25l  Downloading https://files.pythonhosted.org/packages/f1/33/b455d0af521b76b1982eac1ed1c30c9e67f9885f54c3349aef0b0c547d85/pandas-0.19.2-cp36-cp36m-manylinux1_x86_64.whl (18.9MB)\n",
      "\u001b[K     |████████████████████████████████| 18.9MB 25.7MB/s eta 0:00:01     |███████████████████▌            | 11.5MB 25.7MB/s eta 0:00:01\n",
      "\u001b[?25hCollecting pytest==3.6.2 (from -r requirements.txt (line 5))\n",
      "\u001b[?25l  Downloading https://files.pythonhosted.org/packages/11/c4/cfb5f51f401cd54bbaaacff530c96827422a29dca2683ff314e4938444c9/pytest-3.6.2-py2.py3-none-any.whl (195kB)\n",
      "\u001b[K     |████████████████████████████████| 204kB 15.0MB/s eta 0:00:01\n",
      "\u001b[?25hCollecting requests==2.18.4 (from -r requirements.txt (line 6))\n",
      "\u001b[?25l  Downloading https://files.pythonhosted.org/packages/49/df/50aa1999ab9bde74656c2919d9c0c085fd2b3775fd3eca826012bef76d8c/requests-2.18.4-py2.py3-none-any.whl (88kB)\n",
      "\u001b[K     |████████████████████████████████| 92kB 25.2MB/s eta 0:00:01\n",
      "\u001b[?25hRequirement already satisfied: ipywidgets==7.4.2 in /opt/tljh/user/lib/python3.6/site-packages (from -r requirements.txt (line 7)) (7.4.2)\n",
      "Collecting ipfsapi==0.4.2.post1 (from -r requirements.txt (line 8))\n",
      "\u001b[?25l  Downloading https://files.pythonhosted.org/packages/04/59/bf06b69efc1c0d9137cdc71b45f36b909a44e336d6ffe2bb876a11c914f6/ipfsapi-0.4.2.post1-py2.py3-none-any.whl (41kB)\n",
      "\u001b[K     |████████████████████████████████| 51kB 22.6MB/s eta 0:00:01\n",
      "\u001b[?25hCollecting keras==2.1.5 (from -r requirements.txt (line 9))\n",
      "\u001b[?25l  Downloading https://files.pythonhosted.org/packages/ba/65/e4aff762b8696ec0626a6654b1e73b396fcc8b7cc6b98d78a1bc53b85b48/Keras-2.1.5-py2.py3-none-any.whl (334kB)\n",
      "\u001b[K     |████████████████████████████████| 337kB 29.1MB/s eta 0:00:01\n",
      "\u001b[?25hCollecting tensorflow==1.7.0 (from -r requirements.txt (line 10))\n",
      "\u001b[?25l  Downloading https://files.pythonhosted.org/packages/38/4a/42ba8d00a50a9fafc88dd5935246ecc64ffe1f6a0258ef535ffb9652140b/tensorflow-1.7.0-cp36-cp36m-manylinux1_x86_64.whl (48.0MB)\n",
      "\u001b[K     |████████████████████████████████| 48.0MB 33.2MB/s eta 0:00:01   |▏                               | 174kB 8.5MB/s eta 0:00:06     |██                              | 2.9MB 8.5MB/s eta 0:00:06     |█████                           | 7.5MB 8.5MB/s eta 0:00:05     |██████                          | 9.1MB 8.5MB/s eta 0:00:05     |███████▏                        | 10.8MB 8.5MB/s eta 0:00:05     |████████████████                | 23.9MB 8.5MB/s eta 0:00:03     |██████████████████              | 27.1MB 8.5MB/s eta 0:00:03     |██████████████████▊             | 28.1MB 8.5MB/s eta 0:00:03\n",
      "\u001b[?25hCollecting matplotlib==3.0.2 (from -r requirements.txt (line 11))\n",
      "\u001b[?25l  Downloading https://files.pythonhosted.org/packages/71/07/16d781df15be30df4acfd536c479268f1208b2dfbc91e9ca5d92c9caf673/matplotlib-3.0.2-cp36-cp36m-manylinux1_x86_64.whl (12.9MB)\n",
      "\u001b[K     |████████████████████████████████| 12.9MB 19.1MB/s eta 0:00:01    |███████████████▍                | 6.2MB 19.1MB/s eta 0:00:01     |███████████████████████▏        | 9.3MB 19.1MB/s eta 0:00:01     |███████████████████████████████ | 12.5MB 19.1MB/s eta 0:00:01\n",
      "\u001b[?25hCollecting twisted==19.2.0 (from -r requirements.txt (line 12))\n",
      "Collecting autobahn==19.5.1 (from -r requirements.txt (line 13))\n",
      "\u001b[?25l  Downloading https://files.pythonhosted.org/packages/92/5c/3b6605bd1c3bcd94b6d59182a53cc551f2077895c1720888e6b2cf855df6/autobahn-19.5.1-py2.py3-none-any.whl (399kB)\n",
      "\u001b[K     |████████████████████████████████| 409kB 20.3MB/s eta 0:00:01\n",
      "\u001b[?25hCollecting itsdangerous>=0.21 (from Flask==0.11.1->-r requirements.txt (line 1))\n",
      "  Downloading https://files.pythonhosted.org/packages/76/ae/44b03b253d6fade317f32c24d100b3b35c2239807046a4c953c7b89fa49e/itsdangerous-1.1.0-py2.py3-none-any.whl\n",
      "Collecting click>=2.0 (from Flask==0.11.1->-r requirements.txt (line 1))\n",
      "\u001b[?25l  Downloading https://files.pythonhosted.org/packages/fa/37/45185cb5abbc30d7257104c434fe0b07e5a195a6847506c074527aa599ec/Click-7.0-py2.py3-none-any.whl (81kB)\n",
      "\u001b[K     |████████████████████████████████| 81kB 24.6MB/s eta 0:00:01\n",
      "\u001b[?25hRequirement already satisfied: Jinja2>=2.4 in /opt/tljh/user/lib/python3.6/site-packages (from Flask==0.11.1->-r requirements.txt (line 1)) (2.10.1)\n",
      "Collecting Werkzeug>=0.7 (from Flask==0.11.1->-r requirements.txt (line 1))\n",
      "\u001b[?25l  Downloading https://files.pythonhosted.org/packages/ce/42/3aeda98f96e85fd26180534d36570e4d18108d62ae36f87694b476b83d6f/Werkzeug-0.16.0-py2.py3-none-any.whl (327kB)\n",
      "\u001b[K     |████████████████████████████████| 327kB 28.5MB/s eta 0:00:01\n",
      "\u001b[?25hRequirement already satisfied: SQLAlchemy>=0.8.0 in /opt/tljh/user/lib/python3.6/site-packages (from Flask_SQLAlchemy==2.3.1->-r requirements.txt (line 2)) (1.3.8)\n",
      "Requirement already satisfied: python-dateutil>=2 in /opt/tljh/user/lib/python3.6/site-packages (from pandas==0.19.2->-r requirements.txt (line 4)) (2.8.0)\n",
      "Collecting pytz>=2011k (from pandas==0.19.2->-r requirements.txt (line 4))\n",
      "\u001b[?25l  Downloading https://files.pythonhosted.org/packages/e7/f9/f0b53f88060247251bf481fa6ea62cd0d25bf1b11a87888e53ce5b7c8ad2/pytz-2019.3-py2.py3-none-any.whl (509kB)\n",
      "\u001b[K     |████████████████████████████████| 512kB 18.8MB/s eta 0:00:01\n",
      "\u001b[?25hCollecting numpy>=1.7.0 (from pandas==0.19.2->-r requirements.txt (line 4))\n",
      "\u001b[?25l  Downloading https://files.pythonhosted.org/packages/e5/e6/c3fdc53aed9fa19d6ff3abf97dfad768ae3afce1b7431f7500000816bda5/numpy-1.17.2-cp36-cp36m-manylinux1_x86_64.whl (20.4MB)\n",
      "\u001b[K     |████████████████████████████████| 20.4MB 18.9MB/s eta 0:00:01     |████████████████████████████▏   | 17.9MB 18.9MB/s eta 0:00:01\n",
      "\u001b[?25hCollecting pluggy<0.7,>=0.5 (from pytest==3.6.2->-r requirements.txt (line 5))\n",
      "  Downloading https://files.pythonhosted.org/packages/ba/65/ded3bc40bbf8d887f262f150fbe1ae6637765b5c9534bd55690ed2c0b0f7/pluggy-0.6.0-py3-none-any.whl\n",
      "Requirement already satisfied: attrs>=17.4.0 in /opt/tljh/user/lib/python3.6/site-packages (from pytest==3.6.2->-r requirements.txt (line 5)) (19.1.0)\n",
      "Collecting more-itertools>=4.0.0 (from pytest==3.6.2->-r requirements.txt (line 5))\n",
      "\u001b[?25l  Downloading https://files.pythonhosted.org/packages/45/dc/3241eef99eb45f1def35cf93af35d1cf9ef4c0991792583b8f33ea41b092/more_itertools-7.2.0-py3-none-any.whl (57kB)\n",
      "\u001b[K     |████████████████████████████████| 61kB 21.7MB/s eta 0:00:01\n",
      "\u001b[?25hCollecting py>=1.5.0 (from pytest==3.6.2->-r requirements.txt (line 5))\n",
      "\u001b[?25l  Downloading https://files.pythonhosted.org/packages/76/bc/394ad449851729244a97857ee14d7cba61ddb268dce3db538ba2f2ba1f0f/py-1.8.0-py2.py3-none-any.whl (83kB)\n",
      "\u001b[K     |████████████████████████████████| 92kB 17.5MB/s eta 0:00:01\n",
      "\u001b[?25hRequirement already satisfied: setuptools in /opt/tljh/user/lib/python3.6/site-packages (from pytest==3.6.2->-r requirements.txt (line 5)) (41.2.0)\n",
      "Requirement already satisfied: six>=1.10.0 in /opt/tljh/user/lib/python3.6/site-packages (from pytest==3.6.2->-r requirements.txt (line 5)) (1.12.0)\n",
      "Collecting atomicwrites>=1.0 (from pytest==3.6.2->-r requirements.txt (line 5))\n"
     ]
    },
    {
     "name": "stdout",
     "output_type": "stream",
     "text": [
      "  Downloading https://files.pythonhosted.org/packages/52/90/6155aa926f43f2b2a22b01be7241be3bfd1ceaf7d0b3267213e8127d41f4/atomicwrites-1.3.0-py2.py3-none-any.whl\n",
      "Collecting urllib3<1.23,>=1.21.1 (from requests==2.18.4->-r requirements.txt (line 6))\n",
      "\u001b[?25l  Downloading https://files.pythonhosted.org/packages/63/cb/6965947c13a94236f6d4b8223e21beb4d576dc72e8130bd7880f600839b8/urllib3-1.22-py2.py3-none-any.whl (132kB)\n",
      "\u001b[K     |████████████████████████████████| 133kB 24.6MB/s eta 0:00:01\n",
      "\u001b[?25hRequirement already satisfied: chardet<3.1.0,>=3.0.2 in /opt/tljh/user/lib/python3.6/site-packages (from requests==2.18.4->-r requirements.txt (line 6)) (3.0.4)\n",
      "Requirement already satisfied: certifi>=2017.4.17 in /opt/tljh/user/lib/python3.6/site-packages (from requests==2.18.4->-r requirements.txt (line 6)) (2019.9.11)\n",
      "Collecting idna<2.7,>=2.5 (from requests==2.18.4->-r requirements.txt (line 6))\n",
      "\u001b[?25l  Downloading https://files.pythonhosted.org/packages/27/cc/6dd9a3869f15c2edfab863b992838277279ce92663d334df9ecf5106f5c6/idna-2.6-py2.py3-none-any.whl (56kB)\n",
      "\u001b[K     |████████████████████████████████| 61kB 21.6MB/s eta 0:00:01\n",
      "\u001b[?25hRequirement already satisfied: ipykernel>=4.5.1 in /opt/tljh/user/lib/python3.6/site-packages (from ipywidgets==7.4.2->-r requirements.txt (line 7)) (5.1.2)\n",
      "Requirement already satisfied: traitlets>=4.3.1 in /opt/tljh/user/lib/python3.6/site-packages (from ipywidgets==7.4.2->-r requirements.txt (line 7)) (4.3.2)\n",
      "Requirement already satisfied: ipython>=4.0.0; python_version >= \"3.3\" in /opt/tljh/user/lib/python3.6/site-packages (from ipywidgets==7.4.2->-r requirements.txt (line 7)) (7.8.0)\n",
      "Requirement already satisfied: widgetsnbextension~=3.4.0 in /opt/tljh/user/lib/python3.6/site-packages (from ipywidgets==7.4.2->-r requirements.txt (line 7)) (3.4.2)\n",
      "Requirement already satisfied: nbformat>=4.2.0 in /opt/tljh/user/lib/python3.6/site-packages (from ipywidgets==7.4.2->-r requirements.txt (line 7)) (4.4.0)\n",
      "Collecting scipy>=0.14 (from keras==2.1.5->-r requirements.txt (line 9))\n",
      "\u001b[?25l  Downloading https://files.pythonhosted.org/packages/29/50/a552a5aff252ae915f522e44642bb49a7b7b31677f9580cfd11bcc869976/scipy-1.3.1-cp36-cp36m-manylinux1_x86_64.whl (25.2MB)\n",
      "\u001b[K     |████████████████████████████████| 25.2MB 15.3MB/s eta 0:00:01     |████████████████▏               | 12.8MB 15.3MB/s eta 0:00:01     |████████████████████▍           | 16.1MB 15.3MB/s eta 0:00:01\n",
      "\u001b[?25hCollecting pyyaml (from keras==2.1.5->-r requirements.txt (line 9))\n",
      "Collecting termcolor>=1.1.0 (from tensorflow==1.7.0->-r requirements.txt (line 10))\n",
      "Collecting tensorboard<1.8.0,>=1.7.0 (from tensorflow==1.7.0->-r requirements.txt (line 10))\n",
      "\u001b[?25l  Downloading https://files.pythonhosted.org/packages/0b/ec/65d4e8410038ca2a78c09034094403d231228d0ddcae7d470b223456e55d/tensorboard-1.7.0-py3-none-any.whl (3.1MB)\n",
      "\u001b[K     |████████████████████████████████| 3.1MB 10.8MB/s eta 0:00:01\n",
      "\u001b[?25hCollecting gast>=0.2.0 (from tensorflow==1.7.0->-r requirements.txt (line 10))\n",
      "Requirement already satisfied: wheel>=0.26 in /opt/tljh/user/lib/python3.6/site-packages (from tensorflow==1.7.0->-r requirements.txt (line 10)) (0.33.6)\n",
      "Collecting grpcio>=1.8.6 (from tensorflow==1.7.0->-r requirements.txt (line 10))\n",
      "\u001b[?25l  Downloading https://files.pythonhosted.org/packages/e8/cb/ebf7b54c5d4ad521d88ee7826dfa0fc3ac84502361ad7e5cb739ea5057a4/grpcio-1.24.1-cp36-cp36m-manylinux1_x86_64.whl (2.3MB)\n",
      "\u001b[K     |████████████████████████████████| 2.3MB 9.1MB/s eta 0:00:01\n",
      "\u001b[?25hCollecting absl-py>=0.1.6 (from tensorflow==1.7.0->-r requirements.txt (line 10))\n",
      "Collecting astor>=0.6.0 (from tensorflow==1.7.0->-r requirements.txt (line 10))\n",
      "  Downloading https://files.pythonhosted.org/packages/d1/4f/950dfae467b384fc96bc6469de25d832534f6b4441033c39f914efd13418/astor-0.8.0-py2.py3-none-any.whl\n",
      "Collecting protobuf>=3.4.0 (from tensorflow==1.7.0->-r requirements.txt (line 10))\n",
      "\u001b[?25l  Downloading https://files.pythonhosted.org/packages/a8/52/d8d2dbff74b8bf517c42db8d44c3f9ef6555e6f5d6caddfa3f207b9143df/protobuf-3.10.0-cp36-cp36m-manylinux1_x86_64.whl (1.3MB)\n",
      "\u001b[K     |████████████████████████████████| 1.3MB 15.6MB/s eta 0:00:01\n",
      "\u001b[?25hCollecting pyparsing!=2.0.4,!=2.1.2,!=2.1.6,>=2.0.1 (from matplotlib==3.0.2->-r requirements.txt (line 11))\n",
      "\u001b[?25l  Downloading https://files.pythonhosted.org/packages/11/fa/0160cd525c62d7abd076a070ff02b2b94de589f1a9789774f17d7c54058e/pyparsing-2.4.2-py2.py3-none-any.whl (65kB)\n",
      "\u001b[K     |████████████████████████████████| 71kB 13.6MB/s eta 0:00:01\n",
      "\u001b[?25hCollecting kiwisolver>=1.0.1 (from matplotlib==3.0.2->-r requirements.txt (line 11))\n",
      "\u001b[?25l  Downloading https://files.pythonhosted.org/packages/f8/a1/5742b56282449b1c0968197f63eae486eca2c35dcd334bab75ad524e0de1/kiwisolver-1.1.0-cp36-cp36m-manylinux1_x86_64.whl (90kB)\n",
      "\u001b[K     |████████████████████████████████| 92kB 22.1MB/s eta 0:00:01\n",
      "\u001b[?25hCollecting cycler>=0.10 (from matplotlib==3.0.2->-r requirements.txt (line 11))\n",
      "  Downloading https://files.pythonhosted.org/packages/f7/d2/e07d3ebb2bd7af696440ce7e754c59dd546ffe1bbe732c8ab68b9c834e61/cycler-0.10.0-py2.py3-none-any.whl\n",
      "Collecting constantly>=15.1 (from twisted==19.2.0->-r requirements.txt (line 12))\n",
      "  Downloading https://files.pythonhosted.org/packages/b9/65/48c1909d0c0aeae6c10213340ce682db01b48ea900a7d9fce7a7910ff318/constantly-15.1.0-py2.py3-none-any.whl\n",
      "Collecting Automat>=0.3.0 (from twisted==19.2.0->-r requirements.txt (line 12))\n",
      "  Downloading https://files.pythonhosted.org/packages/a3/86/14c16bb98a5a3542ed8fed5d74fb064a902de3bdd98d6584b34553353c45/Automat-0.7.0-py2.py3-none-any.whl\n",
      "Collecting PyHamcrest>=1.9.0 (from twisted==19.2.0->-r requirements.txt (line 12))\n",
      "\u001b[?25l  Downloading https://files.pythonhosted.org/packages/9a/d5/d37fd731b7d0e91afcc84577edeccf4638b4f9b82f5ffe2f8b62e2ddc609/PyHamcrest-1.9.0-py2.py3-none-any.whl (52kB)\n",
      "\u001b[K     |████████████████████████████████| 61kB 6.5MB/s eta 0:00:011\n",
      "\u001b[?25hCollecting hyperlink>=17.1.1 (from twisted==19.2.0->-r requirements.txt (line 12))\n",
      "  Downloading https://files.pythonhosted.org/packages/7f/91/e916ca10a2de1cb7101a9b24da546fb90ee14629e23160086cf3361c4fb8/hyperlink-19.0.0-py2.py3-none-any.whl\n",
      "Collecting zope.interface>=4.4.2 (from twisted==19.2.0->-r requirements.txt (line 12))\n",
      "\u001b[?25l  Downloading https://files.pythonhosted.org/packages/19/17/1d198a6aaa9aa4590862fe3d3a2ed7dd808050cab4eebe8a2f2f813c1376/zope.interface-4.6.0-cp36-cp36m-manylinux1_x86_64.whl (167kB)\n",
      "\u001b[K     |████████████████████████████████| 174kB 16.5MB/s eta 0:00:01\n",
      "\u001b[?25hCollecting incremental>=16.10.1 (from twisted==19.2.0->-r requirements.txt (line 12))\n",
      "  Downloading https://files.pythonhosted.org/packages/f5/1d/c98a587dc06e107115cf4a58b49de20b19222c83d75335a192052af4c4b7/incremental-17.5.0-py2.py3-none-any.whl\n",
      "Collecting txaio>=18.8.1 (from autobahn==19.5.1->-r requirements.txt (line 13))\n",
      "  Downloading https://files.pythonhosted.org/packages/e9/6d/e1a6f7835cde86728e5bb1f577be9b2d7d273fdb33c286e70b087d418ded/txaio-18.8.1-py2.py3-none-any.whl\n",
      "Requirement already satisfied: MarkupSafe>=0.23 in /opt/tljh/user/lib/python3.6/site-packages (from Jinja2>=2.4->Flask==0.11.1->-r requirements.txt (line 1)) (1.1.1)\n",
      "Requirement already satisfied: tornado>=4.2 in /opt/tljh/user/lib/python3.6/site-packages (from ipykernel>=4.5.1->ipywidgets==7.4.2->-r requirements.txt (line 7)) (5.1.1)\n",
      "Requirement already satisfied: jupyter-client in /opt/tljh/user/lib/python3.6/site-packages (from ipykernel>=4.5.1->ipywidgets==7.4.2->-r requirements.txt (line 7)) (5.3.3)\n",
      "Requirement already satisfied: decorator in /opt/tljh/user/lib/python3.6/site-packages (from traitlets>=4.3.1->ipywidgets==7.4.2->-r requirements.txt (line 7)) (4.4.0)\n",
      "Requirement already satisfied: ipython-genutils in /opt/tljh/user/lib/python3.6/site-packages (from traitlets>=4.3.1->ipywidgets==7.4.2->-r requirements.txt (line 7)) (0.2.0)\n",
      "Requirement already satisfied: pexpect; sys_platform != \"win32\" in /opt/tljh/user/lib/python3.6/site-packages (from ipython>=4.0.0; python_version >= \"3.3\"->ipywidgets==7.4.2->-r requirements.txt (line 7)) (4.7.0)\n",
      "Requirement already satisfied: prompt-toolkit<2.1.0,>=2.0.0 in /opt/tljh/user/lib/python3.6/site-packages (from ipython>=4.0.0; python_version >= \"3.3\"->ipywidgets==7.4.2->-r requirements.txt (line 7)) (2.0.9)\n"
     ]
    },
    {
     "name": "stdout",
     "output_type": "stream",
     "text": [
      "Requirement already satisfied: pygments in /opt/tljh/user/lib/python3.6/site-packages (from ipython>=4.0.0; python_version >= \"3.3\"->ipywidgets==7.4.2->-r requirements.txt (line 7)) (2.4.2)\n",
      "Requirement already satisfied: pickleshare in /opt/tljh/user/lib/python3.6/site-packages (from ipython>=4.0.0; python_version >= \"3.3\"->ipywidgets==7.4.2->-r requirements.txt (line 7)) (0.7.5)\n",
      "Requirement already satisfied: backcall in /opt/tljh/user/lib/python3.6/site-packages (from ipython>=4.0.0; python_version >= \"3.3\"->ipywidgets==7.4.2->-r requirements.txt (line 7)) (0.1.0)\n",
      "Requirement already satisfied: jedi>=0.10 in /opt/tljh/user/lib/python3.6/site-packages (from ipython>=4.0.0; python_version >= \"3.3\"->ipywidgets==7.4.2->-r requirements.txt (line 7)) (0.15.1)\n",
      "Requirement already satisfied: notebook>=4.4.1 in /opt/tljh/user/lib/python3.6/site-packages (from widgetsnbextension~=3.4.0->ipywidgets==7.4.2->-r requirements.txt (line 7)) (5.7.8)\n",
      "Requirement already satisfied: jsonschema!=2.5.0,>=2.4 in /opt/tljh/user/lib/python3.6/site-packages (from nbformat>=4.2.0->ipywidgets==7.4.2->-r requirements.txt (line 7)) (3.0.2)\n",
      "Requirement already satisfied: jupyter-core in /opt/tljh/user/lib/python3.6/site-packages (from nbformat>=4.2.0->ipywidgets==7.4.2->-r requirements.txt (line 7)) (4.5.0)\n",
      "Collecting html5lib==0.9999999 (from tensorboard<1.8.0,>=1.7.0->tensorflow==1.7.0->-r requirements.txt (line 10))\n",
      "Collecting bleach==1.5.0 (from tensorboard<1.8.0,>=1.7.0->tensorflow==1.7.0->-r requirements.txt (line 10))\n",
      "  Downloading https://files.pythonhosted.org/packages/33/70/86c5fec937ea4964184d4d6c4f0b9551564f821e1c3575907639036d9b90/bleach-1.5.0-py2.py3-none-any.whl\n",
      "Collecting markdown>=2.6.8 (from tensorboard<1.8.0,>=1.7.0->tensorflow==1.7.0->-r requirements.txt (line 10))\n",
      "\u001b[?25l  Downloading https://files.pythonhosted.org/packages/c0/4e/fd492e91abdc2d2fcb70ef453064d980688762079397f779758e055f6575/Markdown-3.1.1-py2.py3-none-any.whl (87kB)\n",
      "\u001b[K     |████████████████████████████████| 92kB 19.8MB/s eta 0:00:01\n",
      "\u001b[?25hRequirement already satisfied: pyzmq>=13 in /opt/tljh/user/lib/python3.6/site-packages (from jupyter-client->ipykernel>=4.5.1->ipywidgets==7.4.2->-r requirements.txt (line 7)) (18.1.0)\n",
      "Requirement already satisfied: ptyprocess>=0.5 in /opt/tljh/user/lib/python3.6/site-packages (from pexpect; sys_platform != \"win32\"->ipython>=4.0.0; python_version >= \"3.3\"->ipywidgets==7.4.2->-r requirements.txt (line 7)) (0.6.0)\n",
      "Requirement already satisfied: wcwidth in /opt/tljh/user/lib/python3.6/site-packages (from prompt-toolkit<2.1.0,>=2.0.0->ipython>=4.0.0; python_version >= \"3.3\"->ipywidgets==7.4.2->-r requirements.txt (line 7)) (0.1.7)\n",
      "Requirement already satisfied: parso>=0.5.0 in /opt/tljh/user/lib/python3.6/site-packages (from jedi>=0.10->ipython>=4.0.0; python_version >= \"3.3\"->ipywidgets==7.4.2->-r requirements.txt (line 7)) (0.5.1)\n",
      "Requirement already satisfied: Send2Trash in /opt/tljh/user/lib/python3.6/site-packages (from notebook>=4.4.1->widgetsnbextension~=3.4.0->ipywidgets==7.4.2->-r requirements.txt (line 7)) (1.5.0)\n",
      "Requirement already satisfied: terminado>=0.8.1 in /opt/tljh/user/lib/python3.6/site-packages (from notebook>=4.4.1->widgetsnbextension~=3.4.0->ipywidgets==7.4.2->-r requirements.txt (line 7)) (0.8.2)\n",
      "Requirement already satisfied: nbconvert in /opt/tljh/user/lib/python3.6/site-packages (from notebook>=4.4.1->widgetsnbextension~=3.4.0->ipywidgets==7.4.2->-r requirements.txt (line 7)) (5.6.0)\n",
      "Requirement already satisfied: prometheus-client in /opt/tljh/user/lib/python3.6/site-packages (from notebook>=4.4.1->widgetsnbextension~=3.4.0->ipywidgets==7.4.2->-r requirements.txt (line 7)) (0.7.1)\n",
      "Requirement already satisfied: pyrsistent>=0.14.0 in /opt/tljh/user/lib/python3.6/site-packages (from jsonschema!=2.5.0,>=2.4->nbformat>=4.2.0->ipywidgets==7.4.2->-r requirements.txt (line 7)) (0.15.4)\n",
      "Requirement already satisfied: testpath in /opt/tljh/user/lib/python3.6/site-packages (from nbconvert->notebook>=4.4.1->widgetsnbextension~=3.4.0->ipywidgets==7.4.2->-r requirements.txt (line 7)) (0.4.2)\n",
      "Requirement already satisfied: entrypoints>=0.2.2 in /opt/tljh/user/lib/python3.6/site-packages (from nbconvert->notebook>=4.4.1->widgetsnbextension~=3.4.0->ipywidgets==7.4.2->-r requirements.txt (line 7)) (0.3)\n",
      "Requirement already satisfied: mistune<2,>=0.8.1 in /opt/tljh/user/lib/python3.6/site-packages (from nbconvert->notebook>=4.4.1->widgetsnbextension~=3.4.0->ipywidgets==7.4.2->-r requirements.txt (line 7)) (0.8.4)\n",
      "Requirement already satisfied: defusedxml in /opt/tljh/user/lib/python3.6/site-packages (from nbconvert->notebook>=4.4.1->widgetsnbextension~=3.4.0->ipywidgets==7.4.2->-r requirements.txt (line 7)) (0.6.0)\n",
      "Requirement already satisfied: pandocfilters>=1.4.1 in /opt/tljh/user/lib/python3.6/site-packages (from nbconvert->notebook>=4.4.1->widgetsnbextension~=3.4.0->ipywidgets==7.4.2->-r requirements.txt (line 7)) (1.4.2)\n",
      "Installing collected packages: itsdangerous, click, Werkzeug, Flask, Flask-SQLAlchemy, psycopg2, pytz, numpy, pandas, pluggy, more-itertools, py, atomicwrites, pytest, urllib3, idna, requests, ipfsapi, scipy, pyyaml, keras, termcolor, html5lib, bleach, markdown, protobuf, tensorboard, gast, grpcio, absl-py, astor, tensorflow, pyparsing, kiwisolver, cycler, matplotlib, constantly, Automat, PyHamcrest, hyperlink, zope.interface, incremental, twisted, txaio, autobahn\n",
      "  Found existing installation: urllib3 1.25.5\n",
      "    Uninstalling urllib3-1.25.5:\n",
      "      Successfully uninstalled urllib3-1.25.5\n",
      "  Found existing installation: idna 2.8\n",
      "    Uninstalling idna-2.8:\n",
      "      Successfully uninstalled idna-2.8\n",
      "  Found existing installation: requests 2.22.0\n",
      "    Uninstalling requests-2.22.0:\n",
      "      Successfully uninstalled requests-2.22.0\n",
      "  Found existing installation: bleach 3.1.0\n",
      "    Uninstalling bleach-3.1.0:\n",
      "      Successfully uninstalled bleach-3.1.0\n",
      "Successfully installed Automat-0.7.0 Flask-0.11.1 Flask-SQLAlchemy-2.3.1 PyHamcrest-1.9.0 Werkzeug-0.16.0 absl-py-0.8.1 astor-0.8.0 atomicwrites-1.3.0 autobahn-19.5.1 bleach-1.5.0 click-7.0 constantly-15.1.0 cycler-0.10.0 gast-0.3.2 grpcio-1.24.1 html5lib-0.9999999 hyperlink-19.0.0 idna-2.6 incremental-17.5.0 ipfsapi-0.4.2.post1 itsdangerous-1.1.0 keras-2.1.5 kiwisolver-1.1.0 markdown-3.1.1 matplotlib-3.0.2 more-itertools-7.2.0 numpy-1.17.2 pandas-0.19.2 pluggy-0.6.0 protobuf-3.10.0 psycopg2-2.7.3.1 py-1.8.0 pyparsing-2.4.2 pytest-3.6.2 pytz-2019.3 pyyaml-5.1.2 requests-2.18.4 scipy-1.3.1 tensorboard-1.7.0 tensorflow-1.7.0 termcolor-1.1.0 twisted-19.2.0 txaio-18.8.1 urllib3-1.22 zope.interface-4.6.0\n"
     ]
    }
   ],
   "source": [
    "!sudo pip install -r requirements.txt"
   ]
  },
  {
   "cell_type": "code",
   "execution_count": 4,
   "metadata": {},
   "outputs": [
    {
     "name": "stderr",
     "output_type": "stream",
     "text": [
      ":0: UserWarning: You do not have a working installation of the service_identity module: 'No module named 'service_identity''.  Please install it from <https://pypi.python.org/pypi/service_identity> and make sure all of its dependencies are satisfied.  Without the service_identity module, Twisted can perform only rudimentary TLS client hostname verification.  Many valid certificate/hostname mappings may be rejected.\n"
     ]
    }
   ],
   "source": [
    "from core import Explora\n",
    "explora = Explora()"
   ]
  },
  {
   "cell_type": "markdown",
   "metadata": {},
   "source": [
    "Customize your model and set it to the following variable:"
   ]
  },
  {
   "cell_type": "code",
   "execution_count": 2,
   "metadata": {},
   "outputs": [],
   "source": [
    "model = None #SET MODEL HERE"
   ]
  },
  {
   "cell_type": "markdown",
   "metadata": {},
   "source": [
    "Set the hyperparameters for your model here:"
   ]
  },
  {
   "cell_type": "code",
   "execution_count": 3,
   "metadata": {},
   "outputs": [],
   "source": [
    "hyperparams = {} #SET HYPERPARAMS HERE"
   ]
  },
  {
   "cell_type": "markdown",
   "metadata": {},
   "source": [
    "In each round, what percentage of nodes should be averaged before moving on to the next round?"
   ]
  },
  {
   "cell_type": "code",
   "execution_count": 4,
   "metadata": {},
   "outputs": [],
   "source": [
    "percentage_averaged = 1 #SET PERCENTAGE HERE"
   ]
  },
  {
   "cell_type": "markdown",
   "metadata": {},
   "source": [
    "What is the maximum amount of rounds you want to train for?"
   ]
  },
  {
   "cell_type": "code",
   "execution_count": 5,
   "metadata": {},
   "outputs": [],
   "source": [
    "max_rounds = 1 #SET ROUNDS HERE"
   ]
  },
  {
   "cell_type": "markdown",
   "metadata": {},
   "source": [
    "Now run the following line to start a new session and begin training."
   ]
  },
  {
   "cell_type": "code",
   "execution_count": null,
   "metadata": {},
   "outputs": [],
   "source": [
    "explora.start_new_session(repo_id, model, hyperparams, percentage_averaged, max_rounds)"
   ]
  },
  {
   "cell_type": "code",
   "execution_count": null,
   "metadata": {},
   "outputs": [],
   "source": []
  },
  {
   "cell_type": "markdown",
   "metadata": {},
   "source": [
    "The following is an example."
   ]
  },
  {
   "cell_type": "code",
   "execution_count": 5,
   "metadata": {},
   "outputs": [
    {
     "name": "stderr",
     "output_type": "stream",
     "text": [
      "Using TensorFlow backend.\n",
      "/opt/tljh/user/lib/python3.6/site-packages/tensorflow/python/framework/dtypes.py:517: FutureWarning: Passing (type, 1) or '1type' as a synonym of type is deprecated; in a future version of numpy, it will be understood as (type, (1,)) / '(1,)type'.\n",
      "  _np_qint8 = np.dtype([(\"qint8\", np.int8, 1)])\n",
      "/opt/tljh/user/lib/python3.6/site-packages/tensorflow/python/framework/dtypes.py:518: FutureWarning: Passing (type, 1) or '1type' as a synonym of type is deprecated; in a future version of numpy, it will be understood as (type, (1,)) / '(1,)type'.\n",
      "  _np_quint8 = np.dtype([(\"quint8\", np.uint8, 1)])\n",
      "/opt/tljh/user/lib/python3.6/site-packages/tensorflow/python/framework/dtypes.py:519: FutureWarning: Passing (type, 1) or '1type' as a synonym of type is deprecated; in a future version of numpy, it will be understood as (type, (1,)) / '(1,)type'.\n",
      "  _np_qint16 = np.dtype([(\"qint16\", np.int16, 1)])\n",
      "/opt/tljh/user/lib/python3.6/site-packages/tensorflow/python/framework/dtypes.py:520: FutureWarning: Passing (type, 1) or '1type' as a synonym of type is deprecated; in a future version of numpy, it will be understood as (type, (1,)) / '(1,)type'.\n",
      "  _np_quint16 = np.dtype([(\"quint16\", np.uint16, 1)])\n",
      "/opt/tljh/user/lib/python3.6/site-packages/tensorflow/python/framework/dtypes.py:521: FutureWarning: Passing (type, 1) or '1type' as a synonym of type is deprecated; in a future version of numpy, it will be understood as (type, (1,)) / '(1,)type'.\n",
      "  _np_qint32 = np.dtype([(\"qint32\", np.int32, 1)])\n",
      "/opt/tljh/user/lib/python3.6/site-packages/tensorflow/python/framework/dtypes.py:526: FutureWarning: Passing (type, 1) or '1type' as a synonym of type is deprecated; in a future version of numpy, it will be understood as (type, (1,)) / '(1,)type'.\n",
      "  np_resource = np.dtype([(\"resource\", np.ubyte, 1)])\n"
     ]
    }
   ],
   "source": [
    "import numpy as np\n",
    "import keras\n",
    "from keras.models import load_model"
   ]
  },
  {
   "cell_type": "code",
   "execution_count": 6,
   "metadata": {},
   "outputs": [],
   "source": [
    "from core import Explora"
   ]
  },
  {
   "cell_type": "code",
   "execution_count": 7,
   "metadata": {},
   "outputs": [],
   "source": [
    "explora = Explora()"
   ]
  },
  {
   "cell_type": "code",
   "execution_count": 8,
   "metadata": {},
   "outputs": [],
   "source": [
    "repo_id = \"99885f00eefcd4107572eb62a5cb429a\""
   ]
  },
  {
   "cell_type": "code",
   "execution_count": 9,
   "metadata": {},
   "outputs": [
    {
     "ename": "ImportError",
     "evalue": "`load_model` requires h5py.",
     "output_type": "error",
     "traceback": [
      "\u001b[0;31m---------------------------------------------------------------------------\u001b[0m",
      "\u001b[0;31mImportError\u001b[0m                               Traceback (most recent call last)",
      "\u001b[0;32m<ipython-input-9-8fa96eaa8281>\u001b[0m in \u001b[0;36m<module>\u001b[0;34m\u001b[0m\n\u001b[0;32m----> 1\u001b[0;31m \u001b[0mmodel\u001b[0m \u001b[0;34m=\u001b[0m \u001b[0mload_model\u001b[0m\u001b[0;34m(\u001b[0m\u001b[0;34m\"core/artifacts/init_mlp_model_with_w.h5\"\u001b[0m\u001b[0;34m)\u001b[0m\u001b[0;34m\u001b[0m\u001b[0;34m\u001b[0m\u001b[0m\n\u001b[0m",
      "\u001b[0;32m/opt/tljh/user/lib/python3.6/site-packages/keras/models.py\u001b[0m in \u001b[0;36mload_model\u001b[0;34m(filepath, custom_objects, compile)\u001b[0m\n\u001b[1;32m    206\u001b[0m     \"\"\"\n\u001b[1;32m    207\u001b[0m     \u001b[0;32mif\u001b[0m \u001b[0mh5py\u001b[0m \u001b[0;32mis\u001b[0m \u001b[0;32mNone\u001b[0m\u001b[0;34m:\u001b[0m\u001b[0;34m\u001b[0m\u001b[0;34m\u001b[0m\u001b[0m\n\u001b[0;32m--> 208\u001b[0;31m         \u001b[0;32mraise\u001b[0m \u001b[0mImportError\u001b[0m\u001b[0;34m(\u001b[0m\u001b[0;34m'`load_model` requires h5py.'\u001b[0m\u001b[0;34m)\u001b[0m\u001b[0;34m\u001b[0m\u001b[0;34m\u001b[0m\u001b[0m\n\u001b[0m\u001b[1;32m    209\u001b[0m \u001b[0;34m\u001b[0m\u001b[0m\n\u001b[1;32m    210\u001b[0m     \u001b[0;32mif\u001b[0m \u001b[0;32mnot\u001b[0m \u001b[0mcustom_objects\u001b[0m\u001b[0;34m:\u001b[0m\u001b[0;34m\u001b[0m\u001b[0;34m\u001b[0m\u001b[0m\n",
      "\u001b[0;31mImportError\u001b[0m: `load_model` requires h5py."
     ]
    }
   ],
   "source": [
    "model = load_model(\"core/artifacts/init_mlp_model_with_w.h5\")"
   ]
  },
  {
   "cell_type": "code",
   "execution_count": 6,
   "metadata": {},
   "outputs": [],
   "source": [
    "hyperparams = {\n",
    "        \"batch_size\": 8000,\n",
    "        \"epochs\": 5,\n",
    "        \"shuffle\": True, \n",
    "        \"label_index\": 0\n",
    "    }"
   ]
  },
  {
   "cell_type": "code",
   "execution_count": 7,
   "metadata": {},
   "outputs": [],
   "source": [
    "percentage_averaged = 0.75"
   ]
  },
  {
   "cell_type": "code",
   "execution_count": 8,
   "metadata": {},
   "outputs": [],
   "source": [
    "max_rounds = 1"
   ]
  },
  {
   "cell_type": "code",
   "execution_count": 9,
   "metadata": {},
   "outputs": [],
   "source": [
    "explora.start_new_session(repo_id, model, hyperparams, percentage_averaged, max_rounds)"
   ]
  },
  {
   "cell_type": "code",
   "execution_count": null,
   "metadata": {},
   "outputs": [],
   "source": []
  }
 ],
 "metadata": {
  "kernelspec": {
   "display_name": "Python 3",
   "language": "python",
   "name": "python3"
  },
  "language_info": {
   "codemirror_mode": {
    "name": "ipython",
    "version": 3
   },
   "file_extension": ".py",
   "mimetype": "text/x-python",
   "name": "python",
   "nbconvert_exporter": "python",
   "pygments_lexer": "ipython3",
   "version": "3.6.7"
  }
 },
 "nbformat": 4,
 "nbformat_minor": 2
}
