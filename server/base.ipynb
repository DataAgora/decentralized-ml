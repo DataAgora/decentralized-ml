{
 "cells": [
  {
   "cell_type": "markdown",
   "metadata": {},
   "source": [
    "The following cell will import and load an instance of the Explora module. Add any extra imports here."
   ]
  },
  {
   "cell_type": "code",
   "execution_count": null,
   "metadata": {},
   "outputs": [],
   "source": [
    "import sys\n",
    "import os\n",
    "sys.path.append(\"../..\")\n",
    "from core import Explora\n",
    "explora = Explora()"
   ]
  },
  {
   "cell_type": "markdown",
   "metadata": {},
   "source": [
    "Running the following cell will load your repo id."
   ]
  },
  {
   "cell_type": "code",
   "execution_count": null,
   "metadata": {},
   "outputs": [],
   "source": [
    "repo_id = os.getcwd().split('/')[-1]"
   ]
  },
  {
   "cell_type": "markdown",
   "metadata": {},
   "source": [
    "Customize your model and set it to the following variable:"
   ]
  },
  {
   "cell_type": "code",
   "execution_count": null,
   "metadata": {},
   "outputs": [],
   "source": [
    "model = None #SET MODEL HERE"
   ]
  },
  {
   "cell_type": "markdown",
   "metadata": {},
   "source": [
    "Set the hyperparameters for your model here:"
   ]
  },
  {
   "cell_type": "code",
   "execution_count": null,
   "metadata": {},
   "outputs": [],
   "source": [
    "hyperparams = {} #SET HYPERPARAMS HERE"
   ]
  },
  {
   "cell_type": "markdown",
   "metadata": {},
   "source": [
    "In each round, what percentage of nodes should be averaged before moving on to the next round?"
   ]
  },
  {
   "cell_type": "code",
   "execution_count": null,
   "metadata": {},
   "outputs": [],
   "source": [
    "percentage_averaged = 1 #SET PERCENTAGE HERE"
   ]
  },
  {
   "cell_type": "markdown",
   "metadata": {},
   "source": [
    "What is the maximum amount of rounds you want to train for?"
   ]
  },
  {
   "cell_type": "code",
   "execution_count": null,
   "metadata": {},
   "outputs": [],
   "source": [
    "max_rounds = 1 #SET ROUNDS HERE"
   ]
  },
  {
   "cell_type": "markdown",
   "metadata": {},
   "source": [
    "Now run the following line to start a new session and begin training."
   ]
  },
  {
   "cell_type": "code",
   "execution_count": null,
   "metadata": {},
   "outputs": [],
   "source": [
    "explora.start_new_session(repo_id, model, hyperparams, percentage_averaged, max_rounds)"
   ]
  },
  {
   "cell_type": "code",
   "execution_count": 1,
   "metadata": {},
   "outputs": [
    {
     "name": "stdout",
     "output_type": "stream",
     "text": [
      "Collecting Flask==1.0.2 (from -r requirements.txt (line 1))\n",
      "  Using cached https://files.pythonhosted.org/packages/7f/e7/08578774ed4536d3242b14dacb4696386634607af824ea997202cd0edb4b/Flask-1.0.2-py2.py3-none-any.whl\n",
      "Collecting Twisted==18.9.0 (from -r requirements.txt (line 2))\n",
      "Requirement already satisfied: Jinja2>=2.10 in /usr/local/lib/python3.6/site-packages (from Flask==1.0.2->-r requirements.txt (line 1)) (2.10)\n",
      "Requirement already satisfied: click>=5.1 in /usr/local/lib/python3.6/site-packages (from Flask==1.0.2->-r requirements.txt (line 1)) (7.0)\n",
      "Requirement already satisfied: Werkzeug>=0.14 in /usr/local/lib/python3.6/site-packages (from Flask==1.0.2->-r requirements.txt (line 1)) (0.14.1)\n",
      "Requirement already satisfied: itsdangerous>=0.24 in /usr/local/lib/python3.6/site-packages (from Flask==1.0.2->-r requirements.txt (line 1)) (1.1.0)\n",
      "Requirement already satisfied: attrs>=17.4.0 in /usr/local/lib/python3.6/site-packages (from Twisted==18.9.0->-r requirements.txt (line 2)) (18.2.0)\n",
      "Requirement already satisfied: constantly>=15.1 in /usr/local/lib/python3.6/site-packages (from Twisted==18.9.0->-r requirements.txt (line 2)) (15.1.0)\n",
      "Requirement already satisfied: incremental>=16.10.1 in /usr/local/lib/python3.6/site-packages (from Twisted==18.9.0->-r requirements.txt (line 2)) (17.5.0)\n",
      "Requirement already satisfied: Automat>=0.3.0 in /usr/local/lib/python3.6/site-packages (from Twisted==18.9.0->-r requirements.txt (line 2)) (0.7.0)\n",
      "Requirement already satisfied: PyHamcrest>=1.9.0 in /usr/local/lib/python3.6/site-packages (from Twisted==18.9.0->-r requirements.txt (line 2)) (1.9.0)\n",
      "Requirement already satisfied: hyperlink>=17.1.1 in /usr/local/lib/python3.6/site-packages (from Twisted==18.9.0->-r requirements.txt (line 2)) (19.0.0)\n",
      "Requirement already satisfied: zope.interface>=4.4.2 in /usr/local/lib/python3.6/site-packages (from Twisted==18.9.0->-r requirements.txt (line 2)) (4.6.0)\n",
      "Requirement already satisfied: MarkupSafe>=0.23 in /usr/local/lib/python3.6/site-packages (from Jinja2>=2.10->Flask==1.0.2->-r requirements.txt (line 1)) (1.1.0)\n",
      "Requirement already satisfied: six in /usr/local/lib/python3.6/site-packages (from Automat>=0.3.0->Twisted==18.9.0->-r requirements.txt (line 2)) (1.11.0)\n",
      "Requirement already satisfied: setuptools in /usr/local/lib/python3.6/site-packages (from PyHamcrest>=1.9.0->Twisted==18.9.0->-r requirements.txt (line 2)) (39.2.0)\n",
      "Requirement already satisfied: idna>=2.5 in /usr/local/lib/python3.6/site-packages (from hyperlink>=17.1.1->Twisted==18.9.0->-r requirements.txt (line 2)) (2.6)\n",
      "Installing collected packages: Flask, Twisted\n",
      "  Found existing installation: Flask 0.11.1\n",
      "    Uninstalling Flask-0.11.1:\n",
      "      Successfully uninstalled Flask-0.11.1\n",
      "  Found existing installation: Twisted 19.2.0\n",
      "    Uninstalling Twisted-19.2.0:\n",
      "      Successfully uninstalled Twisted-19.2.0\n",
      "Successfully installed Flask-1.0.2 Twisted-18.9.0\n",
      "\u001b[33mYou are using pip version 10.0.1, however version 19.2.2 is available.\n",
      "You should consider upgrading via the 'pip install --upgrade pip' command.\u001b[0m\n"
     ]
    }
   ],
   "source": [
    "!pip install -r requirements.txt"
   ]
  },
  {
   "cell_type": "markdown",
   "metadata": {},
   "source": [
    "The following is an example."
   ]
  },
  {
   "cell_type": "code",
   "execution_count": 2,
   "metadata": {},
   "outputs": [
    {
     "name": "stderr",
     "output_type": "stream",
     "text": [
      "Using TensorFlow backend.\n"
     ]
    }
   ],
   "source": [
    "import numpy as np\n",
    "import keras\n",
    "from keras.models import load_model"
   ]
  },
  {
   "cell_type": "code",
   "execution_count": 3,
   "metadata": {},
   "outputs": [],
   "source": [
    "import sys\n",
    "import os\n",
    "from core2 import Explora"
   ]
  },
  {
   "cell_type": "code",
   "execution_count": 4,
   "metadata": {},
   "outputs": [],
   "source": [
    "explora = Explora()"
   ]
  },
  {
   "cell_type": "code",
   "execution_count": 5,
   "metadata": {},
   "outputs": [
    {
     "data": {
      "text/plain": [
       "['core',\n",
       " 'requirements.txt',\n",
       " 'base.ipynb',\n",
       " '.elasticbeanstalk',\n",
       " 'core2',\n",
       " 'mappings.json',\n",
       " '.ebextensions',\n",
       " '.ipynb_checkpoints',\n",
       " 'main.py',\n",
       " 'notebooks']"
      ]
     },
     "execution_count": 5,
     "metadata": {},
     "output_type": "execute_result"
    }
   ],
   "source": [
    "import os\n",
    "\n",
    "os.listdir()"
   ]
  },
  {
   "cell_type": "code",
   "execution_count": 6,
   "metadata": {},
   "outputs": [],
   "source": [
    "hyperparams = {\n",
    "        \"batch_size\": 8000,\n",
    "        \"epochs\": 5,\n",
    "        \"shuffle\": True, \n",
    "        \"label_index\": 0\n",
    "    }"
   ]
  },
  {
   "cell_type": "code",
   "execution_count": 7,
   "metadata": {},
   "outputs": [],
   "source": [
    "percentage_averaged = 0.75"
   ]
  },
  {
   "cell_type": "code",
   "execution_count": 8,
   "metadata": {},
   "outputs": [],
   "source": [
    "max_rounds = 1"
   ]
  },
  {
   "cell_type": "code",
   "execution_count": null,
   "metadata": {},
   "outputs": [],
   "source": [
    "explora.start_new_session(hyperparams, percentage_averaged, max_rounds)"
   ]
  },
  {
   "cell_type": "code",
   "execution_count": null,
   "metadata": {},
   "outputs": [],
   "source": []
  }
 ],
 "metadata": {
  "kernelspec": {
   "display_name": "Python 3",
   "language": "python",
   "name": "python3"
  },
  "language_info": {
   "codemirror_mode": {
    "name": "ipython",
    "version": 3
   },
   "file_extension": ".py",
   "mimetype": "text/x-python",
   "name": "python",
   "nbconvert_exporter": "python",
   "pygments_lexer": "ipython3",
   "version": "3.6.5"
  }
 },
 "nbformat": 4,
 "nbformat_minor": 2
}
