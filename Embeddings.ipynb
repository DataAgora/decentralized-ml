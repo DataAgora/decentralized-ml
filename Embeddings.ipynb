{
 "cells": [
  {
   "cell_type": "markdown",
   "metadata": {},
   "source": [
    "## Creating an 8-d Character Embedding"
   ]
  },
  {
   "cell_type": "markdown",
   "metadata": {},
   "source": [
    "Put the path of a GloVe embedding or similar in the following cell and then **run all cells**."
   ]
  },
  {
   "cell_type": "code",
   "execution_count": 24,
   "metadata": {},
   "outputs": [],
   "source": [
    "file_path = \"../glove.6B/glove.6B.50d.txt\""
   ]
  },
  {
   "cell_type": "code",
   "execution_count": 25,
   "metadata": {},
   "outputs": [],
   "source": [
    "import numpy as np\n",
    "import os\n",
    "from sklearn.decomposition import PCA\n",
    "\n",
    "vectors = {}\n",
    "with open(file_path, 'r') as f:\n",
    "    for line in f:\n",
    "        line_split = line.strip().split(\" \")\n",
    "        vec = np.array(line_split[1:], dtype=float)\n",
    "        word = line_split[0]\n",
    "\n",
    "        for char in word:\n",
    "            if ord(char) < 128:\n",
    "                if char in vectors:\n",
    "                    vectors[char] = (vectors[char][0] + vec,\n",
    "                                     vectors[char][1] + 1)\n",
    "                else:\n",
    "                    vectors[char] = (vec, 1)\n",
    "\n",
    "base_name = os.path.splitext(os.path.basename(file_path))[0] + '-char.txt'\n",
    "with open(base_name, 'w') as f2:\n",
    "    for word in vectors:\n",
    "        avg_vector = np.round(\n",
    "            (vectors[word][0] / vectors[word][1]), 6).tolist()\n",
    "        f2.write(word + \" \" + \" \".join(str(x) for x in avg_vector) + \"\\n\")"
   ]
  },
  {
   "cell_type": "code",
   "execution_count": 26,
   "metadata": {},
   "outputs": [],
   "source": [
    "from sklearn.decomposition import PCA\n",
    "\n",
    "target_dimension = 8\n",
    "\n",
    "# base_name should be defined from the previous cell\n",
    "matrix, letters = [], []\n",
    "with open(base_name, 'r') as f3:\n",
    "    for line in f3:\n",
    "        line_split = line.strip().split(\" \")\n",
    "        vec = np.array(line_split[1:], dtype=float)\n",
    "        matrix.append(vec)\n",
    "        letter = line_split[0]\n",
    "        letters.append(letter)\n",
    "        \n",
    "matrix = np.array(matrix, dtype=float)\n",
    "pca = PCA(n_components=target_dimension)\n",
    "new_matrix = pca.fit_transform(matrix)\n",
    "\n",
    "embedding_path = os.path.join(os.getcwd(), 'models', 'char-embeds.txt')\n",
    "with open(embedding_path, 'w') as f4:\n",
    "    for letter, vec in zip(letters, new_matrix):\n",
    "        f4.write(letter + \" \" + \" \".join(str(x) for x in vec) + \"\\n\")\n",
    "\n",
    "os.remove(base_name)"
   ]
  },
  {
   "cell_type": "code",
   "execution_count": 27,
   "metadata": {},
   "outputs": [
    {
     "name": "stdout",
     "output_type": "stream",
     "text": [
      "8-d Character Embedding saved in: /Users/georgymh/Documents/Cal/294/DecentML/models/char-embeds.txt\n"
     ]
    }
   ],
   "source": [
    "print(\"8-d Character Embedding saved in: {0}\".format(embedding_path))"
   ]
  }
 ],
 "metadata": {
  "kernelspec": {
   "display_name": "Python 3",
   "language": "python",
   "name": "python3"
  },
  "language_info": {
   "codemirror_mode": {
    "name": "ipython",
    "version": 3
   },
   "file_extension": ".py",
   "mimetype": "text/x-python",
   "name": "python",
   "nbconvert_exporter": "python",
   "pygments_lexer": "ipython3",
   "version": "3.6.1"
  }
 },
 "nbformat": 4,
 "nbformat_minor": 2
}
