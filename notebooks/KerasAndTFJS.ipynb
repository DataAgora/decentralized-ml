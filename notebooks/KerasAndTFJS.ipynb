{
 "cells": [
  {
   "cell_type": "markdown",
   "metadata": {},
   "source": [
    "# Converting a Keras model into a TF.JS model"
   ]
  },
  {
   "cell_type": "markdown",
   "metadata": {},
   "source": [
    "This is simple, just convert the Keras model into a tfjs model by **running on shell**:\n",
    "\n",
    "```bash\n",
    "tensorflowjs_converter --input_format=keras saved_mlp_model_with_w.h5 tfjs_model\n",
    "```"
   ]
  },
  {
   "cell_type": "markdown",
   "metadata": {},
   "source": [
    "If you want, you can inspect the created model (the .json file to be exact) and see that the optimizer information is there:"
   ]
  },
  {
   "cell_type": "code",
   "execution_count": 5,
   "metadata": {},
   "outputs": [
    {
     "data": {
      "text/plain": [
       "{'optimizer_config': {'class_name': 'SGD',\n",
       "  'config': {'lr': 0.0010000000474974513,\n",
       "   'momentum': 0.0,\n",
       "   'decay': 0.0,\n",
       "   'nesterov': False}},\n",
       " 'loss': 'sparse_categorical_crossentropy',\n",
       " 'metrics': ['accuracy'],\n",
       " 'sample_weight_mode': None,\n",
       " 'loss_weights': None}"
      ]
     },
     "execution_count": 5,
     "metadata": {},
     "output_type": "execute_result"
    }
   ],
   "source": [
    "import json\n",
    "\n",
    "with open('tfjs_model/model.json') as f:    \n",
    "    data = json.load(f)\n",
    "\n",
    "data['modelTopology']['training_config']"
   ]
  },
  {
   "cell_type": "markdown",
   "metadata": {},
   "source": [
    "# ☺"
   ]
  },
  {
   "cell_type": "markdown",
   "metadata": {},
   "source": [
    "## UPDATE"
   ]
  },
  {
   "cell_type": "markdown",
   "metadata": {},
   "source": [
    "Even though the training information is there, when the model is imported in the client by calling `tf.loadLayersModel(MODEL_URL)` this information is not imported.\n",
    "\n",
    "**This means the optimizer information needs to be stripped from the *model.json* created by this tool, and then some manual deserialization needs to be done.**"
   ]
  },
  {
   "cell_type": "code",
   "execution_count": null,
   "metadata": {},
   "outputs": [],
   "source": []
  }
 ],
 "metadata": {
  "kernelspec": {
   "display_name": "Python 3",
   "language": "python",
   "name": "python3"
  },
  "language_info": {
   "codemirror_mode": {
    "name": "ipython",
    "version": 3
   },
   "file_extension": ".py",
   "mimetype": "text/x-python",
   "name": "python",
   "nbconvert_exporter": "python",
   "pygments_lexer": "ipython3",
   "version": "3.6.6"
  }
 },
 "nbformat": 4,
 "nbformat_minor": 2
}
